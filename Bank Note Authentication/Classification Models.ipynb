{
 "cells": [
  {
   "cell_type": "code",
   "execution_count": 3,
   "id": "3bd24cb7",
   "metadata": {},
   "outputs": [
    {
     "name": "stdout",
     "output_type": "stream",
     "text": [
      "First few rows of the dataset:\n",
      "   variance  skewness  curtosis  entropy  class\n",
      "0   3.62160    8.6661   -2.8073 -0.44699      0\n",
      "1   4.54590    8.1674   -2.4586 -1.46210      0\n",
      "2   3.86600   -2.6383    1.9242  0.10645      0\n",
      "3   3.45660    9.5228   -4.0112 -3.59440      0\n",
      "4   0.32924   -4.4552    4.5718 -0.98880      0\n"
     ]
    }
   ],
   "source": [
    "from sklearn.model_selection import train_test_split\n",
    "from sklearn.tree import DecisionTreeClassifier\n",
    "from sklearn.tree import plot_tree\n",
    "from sklearn.neighbors import KNeighborsClassifier\n",
    "from sklearn.linear_model import LogisticRegression\n",
    "from sklearn.svm import SVC\n",
    "from sklearn.ensemble import RandomForestClassifier\n",
    "from sklearn import metrics\n",
    "import pandas as pd\n",
    "import matplotlib.pyplot as plt\n",
    "\n",
    "\n",
    "# Loading the dataset\n",
    "df = pd.read_csv('BankNote_Authentication.csv')\n",
    "\n",
    "# Displays the first few rows of the dataset\n",
    "print(\"First few rows of the dataset:\")\n",
    "print(df.head())\n",
    "\n",
    "# Split the dataset\n",
    "X = df.drop('class', axis=1)\n",
    "y = df['class']\n",
    "X_train, X_test, y_train, y_test = train_test_split(X, y, test_size=0.2, random_state=42)\n",
    "\n"
   ]
  },
  {
   "cell_type": "code",
   "execution_count": 4,
   "id": "8b5a5a01",
   "metadata": {},
   "outputs": [
    {
     "name": "stdout",
     "output_type": "stream",
     "text": [
      "Decision Tree Accuracy: 0.9818181818181818\n",
      "Decision Tree Confusion Matrix:\n",
      "[[148   0]\n",
      " [  5 122]]\n",
      "\n",
      "KNN Accuracy: 1.0\n",
      "KNN Confusion Matrix:\n",
      "[[148   0]\n",
      " [  0 127]]\n",
      "\n",
      "Logistic Regression Accuracy: 0.9854545454545455\n",
      "Logistic Regression Confusion Matrix:\n",
      "[[146   2]\n",
      " [  2 125]]\n",
      "\n",
      "SVM Accuracy: 1.0\n",
      "SVM Confusion Matrix:\n",
      "[[148   0]\n",
      " [  0 127]]\n",
      "\n",
      "Random Forest Accuracy: 0.9927272727272727\n",
      "Random Forest Confusion Matrix:\n",
      "[[148   0]\n",
      " [  2 125]]\n"
     ]
    }
   ],
   "source": [
    "\n",
    "# Decision Tree Classifier\n",
    "clf_dt = DecisionTreeClassifier(random_state=42)\n",
    "clf_dt.fit(X_train, y_train)\n",
    "y_pred_dt = clf_dt.predict(X_test)\n",
    "accuracy_dt = metrics.accuracy_score(y_test, y_pred_dt)\n",
    "conf_matrix_dt = metrics.confusion_matrix(y_test, y_pred_dt)\n",
    "\n",
    "# k-Nearest Neighbors (KNN)\n",
    "clf_knn = KNeighborsClassifier()\n",
    "clf_knn.fit(X_train, y_train)\n",
    "y_pred_knn = clf_knn.predict(X_test)\n",
    "accuracy_knn = metrics.accuracy_score(y_test, y_pred_knn)\n",
    "conf_matrix_knn = metrics.confusion_matrix(y_test, y_pred_knn)\n",
    "\n",
    "# Logistic Regression\n",
    "clf_lr = LogisticRegression(random_state=42)\n",
    "clf_lr.fit(X_train, y_train)\n",
    "y_pred_lr = clf_lr.predict(X_test)\n",
    "accuracy_lr = metrics.accuracy_score(y_test, y_pred_lr)\n",
    "conf_matrix_lr = metrics.confusion_matrix(y_test, y_pred_lr)\n",
    "\n",
    "# Support Vector Machine (SVM)\n",
    "clf_svm = SVC(random_state=42)\n",
    "clf_svm.fit(X_train, y_train)\n",
    "y_pred_svm = clf_svm.predict(X_test)\n",
    "accuracy_svm = metrics.accuracy_score(y_test, y_pred_svm)\n",
    "conf_matrix_svm = metrics.confusion_matrix(y_test, y_pred_svm)\n",
    "\n",
    "# Random Forest\n",
    "clf_rf = RandomForestClassifier(random_state=42)\n",
    "clf_rf.fit(X_train, y_train)\n",
    "y_pred_rf = clf_rf.predict(X_test)\n",
    "accuracy_rf = metrics.accuracy_score(y_test, y_pred_rf)\n",
    "conf_matrix_rf = metrics.confusion_matrix(y_test, y_pred_rf)\n",
    "\n",
    "\n",
    "print(f\"Decision Tree Accuracy: {accuracy_dt}\")\n",
    "print(\"Decision Tree Confusion Matrix:\")\n",
    "print(conf_matrix_dt)\n",
    "\n",
    "print(f\"\\nKNN Accuracy: {accuracy_knn}\")\n",
    "print(\"KNN Confusion Matrix:\")\n",
    "print(conf_matrix_knn)\n",
    "\n",
    "print(f\"\\nLogistic Regression Accuracy: {accuracy_lr}\")\n",
    "print(\"Logistic Regression Confusion Matrix:\")\n",
    "print(conf_matrix_lr)\n",
    "\n",
    "print(f\"\\nSVM Accuracy: {accuracy_svm}\")\n",
    "print(\"SVM Confusion Matrix:\")\n",
    "print(conf_matrix_svm)\n",
    "\n",
    "print(f\"\\nRandom Forest Accuracy: {accuracy_rf}\")\n",
    "print(\"Random Forest Confusion Matrix:\")\n",
    "print(conf_matrix_rf)"
   ]
  },
  {
   "cell_type": "code",
   "execution_count": 10,
   "id": "a3290c84",
   "metadata": {},
   "outputs": [
    {
     "name": "stdout",
     "output_type": "stream",
     "text": [
      "      Actual  Predicted\n",
      "430        0          0\n",
      "588        0          0\n",
      "296        0          0\n",
      "184        0          0\n",
      "244        0          0\n",
      "...      ...        ...\n",
      "1341       1          1\n",
      "1100       1          1\n",
      "620        0          0\n",
      "617        0          0\n",
      "602        0          0\n",
      "\n",
      "[275 rows x 2 columns]\n"
     ]
    }
   ],
   "source": [
    "# Knn\n",
    "y_pred = clf_knn.predict(X_test)\n",
    "\n",
    "result_knn = pd.DataFrame({'Actual': y_test, 'Predicted': y_pred})\n",
    "print(result_knn)\n"
   ]
  },
  {
   "cell_type": "code",
   "execution_count": 15,
   "id": "0b9cbc86",
   "metadata": {},
   "outputs": [
    {
     "name": "stdout",
     "output_type": "stream",
     "text": [
      "Prediction for the input data: [1]\n"
     ]
    },
    {
     "name": "stderr",
     "output_type": "stream",
     "text": [
      "C:\\Users\\User\\anaconda3\\lib\\site-packages\\sklearn\\base.py:420: UserWarning: X does not have valid feature names, but KNeighborsClassifier was fitted with feature names\n",
      "  warnings.warn(\n"
     ]
    }
   ],
   "source": [
    "# giving data\n",
    "new_data = [[-6.6472,-9.48213,-3.7449,-6.225]]\n",
    "\n",
    "# making predictions\n",
    "prediction = clf_knn.predict(new_data)\n",
    "print(f\"Prediction for the input data: {prediction}\")"
   ]
  },
  {
   "cell_type": "code",
   "execution_count": 19,
   "id": "04ca046b",
   "metadata": {},
   "outputs": [],
   "source": [
    "# plt.figure(figsize=(15, 10))\n",
    "# plot_tree(clf_dt, filled=True, feature_names=X.columns, class_names=['Genuine', 'Counterfeit'])\n",
    "# plt.show()\n",
    "\n",
    "\n",
    "\n",
    "\n",
    "\n",
    "\n",
    "# import numpy as np\n",
    "# import matplotlib.pyplot as plt\n",
    "# from matplotlib.colors import ListedColormap\n",
    "\n",
    "# # Extract the first two features from the dataset\n",
    "# X_subset = X.iloc[:, :2].values\n",
    "\n",
    "# # Create a meshgrid to plot decision boundaries\n",
    "# h = 0.02  # step size in the mesh\n",
    "# x_min, x_max = X_subset[:, 0].min() - 1, X_subset[:, 0].max() + 1\n",
    "# y_min, y_max = X_subset[:, 1].min() - 1, X_subset[:, 1].max() + 1\n",
    "# xx, yy = np.meshgrid(np.arange(x_min, x_max, h), np.arange(y_min, y_max, h))\n",
    "\n",
    "# # Use the KNN classifier to predict the class for each point in the meshgrid\n",
    "# meshgrid_points = np.c_[xx.ravel(), yy.ravel()]\n",
    "# Z = clf_knn.predict(meshgrid_points)\n",
    "# Z = Z.reshape(xx.shape)\n",
    "\n",
    "# # Plot the decision boundaries\n",
    "# plt.figure(figsize=(10, 8))\n",
    "# cmap_light = ListedColormap(['#FFAAAA', '#AAAAFF'])\n",
    "# plt.pcolormesh(xx, yy, Z, cmap=cmap_light)\n",
    "\n",
    "# # Plot the training points\n",
    "# plt.scatter(X_subset[:, 0], X_subset[:, 1], c=y, edgecolors='k', cmap=plt.cm.Paired, s=50)\n",
    "# plt.title(\"KNN Decision Boundaries\")\n",
    "# plt.xlabel(\"Feature 1\")\n",
    "# plt.ylabel(\"Feature 2\")\n",
    "\n",
    "# plt.show()\n"
   ]
  },
  {
   "cell_type": "code",
   "execution_count": 21,
   "id": "85eb6b1c",
   "metadata": {},
   "outputs": [
    {
     "data": {
      "image/png": "[encoded data removed]",
      "text/plain": [
       "<Figure size 1000x600 with 1 Axes>"
      ]
     },
     "metadata": {},
     "output_type": "display_data"
    }
   ],
   "source": [
    "import matplotlib.pyplot as plt\n",
    "models = ['Decision Tree', 'KNN', 'Logistic Regression', 'SVM', 'Random Forest']\n",
    "accuracies = [accuracy_dt, accuracy_knn, accuracy_lr, accuracy_svm, accuracy_rf]\n",
    "\n",
    "plt.figure(figsize=(10, 6))\n",
    "plt.bar(models, accuracies, color=['blue', 'green', 'orange', 'purple', 'red'])\n",
    "plt.ylim(0.9, 1.0)  # Set the y-axis range for better visibility\n",
    "\n",
    "# Adding labels and title\n",
    "plt.xlabel('Models')\n",
    "plt.ylabel('Accuracy')\n",
    "plt.title('Accuracy of Different Models in Banknote Authentication')\n",
    "\n",
    "# Displaying the accuracy values on top of the bars\n",
    "for i, v in enumerate(accuracies):\n",
    "    plt.text(i, v + 0.005, f'{v:.4f}', ha='center', va='bottom')\n",
    "\n",
    "# Show the plot\n",
    "plt.show()"
   ]
  },
  {
   "cell_type": "code",
   "execution_count": null,
   "id": "6dbcda97",
   "metadata": {},
   "outputs": [],
   "source": []
  }
 ],
 "metadata": {
  "kernelspec": {
   "display_name": "Python 3 (ipykernel)",
   "language": "python",
   "name": "python3"
  },
  "language_info": {
   "codemirror_mode": {
    "name": "ipython",
    "version": 3
   },
   "file_extension": ".py",
   "mimetype": "text/x-python",
   "name": "python",
   "nbconvert_exporter": "python",
   "pygments_lexer": "ipython3",
   "version": "3.10.9"
  }
 },
 "nbformat": 4,
 "nbformat_minor": 5
}
